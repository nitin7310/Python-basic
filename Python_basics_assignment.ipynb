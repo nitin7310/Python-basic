{
  "nbformat": 4,
  "nbformat_minor": 0,
  "metadata": {
    "colab": {
      "provenance": []
    },
    "kernelspec": {
      "name": "python3",
      "display_name": "Python 3"
    },
    "language_info": {
      "name": "python"
    }
  },
  "cells": [
    {
      "cell_type": "markdown",
      "source": [
        "# PYTHON BASICS\n",
        "1.What is Python, and why is it popular\n",
        "\n",
        "  ANS - Python is programing language that is easy to use and write. It is popular beause Python has a large and active community of developers, an extensive standard library, and third-party packages for various domains.\n",
        "\n",
        "2.What is an interpreter in Python\n",
        "\n",
        "  ANS - The Python interpreter is a crucial component that allows Python code to be executed. It translates the high-level Python code into a form that the computer's processor can understand and execute.\n",
        "\n",
        "3.What are pre-defined keywords in Python?\n",
        "  \n",
        "  -> In Python, predefined keywords are reserved words that have special meanings and purposes in the language. You cannot use them as identifiers for variables, functions, or other elements in your program. These keywords are essential for defining the syntax and structure of Python code.\n",
        "\n",
        "\n",
        "4.Can keywords be used as variable names?\n",
        "\n",
        "  -> No, keywords in Python cannot be used as variable names. They are reserved by the language because they have specific meanings and functions in Python's syntax. If you try to use a keyword as a variable name, Python will throw a\n",
        "\n",
        "5.What is mutability in Python?\n",
        "\n",
        "  -> In Python, mutability refers to the ability of an object to be modified after its creation\n",
        "\n",
        "6.Why are lists mutable, but tuples are immutable?\n",
        "\n",
        "  -> Lists are designed for scenarios where you need to store a collection of items that might change over time\n",
        "\n",
        "  -> Tuples are intended for fixed collections of data that should not change.\n",
        "  so lists mutable and tuples are immutable.\n",
        "\n",
        "7.What is the difference between “==” and “is” operators in Python?\n",
        "\n",
        "  ->The == operator checks whether the values of two objects are the same. It compares the content of the objects\n",
        "\n",
        "  -> The is operator checks whether two objects refer to the same memory location\n",
        "\n",
        "8.What are logical operators in Python?\n",
        "\n",
        "  ->Logical operators in Python are used to combine conditional statements or expressions and return a boolean result (True or False). They are essential for controlling the flow of a program, especially in decision-making and loops.\n",
        "\n",
        "9.What is type casting in Python?\n",
        "\n",
        "  ->Type casting in Python refers to converting a value from one data type to another. It allows programmers to explicitly change the type of a variable or value to suit their needs. Python provides built-in functions for type casting.\n",
        "\n",
        "10.What is the difference between implicit and explicit type casting?\n",
        "\n",
        "  -> 1. Implicit Type Casting\n",
        "What Happens: Python automatically converts a value from one type to another without the programmer's involvement.\n",
        "\n",
        "Purpose: Ensures smooth operation between compatible types (e.g., integers and floats) during calculations.\n",
        "\n",
        "No Data Loss: Python only performs implicit conversions where there's no risk of losing data or precision\n",
        "\n",
        "  -> 2. Explicit Type Casting\n",
        "What Happens: The programmer intentionally converts the value using built-in functions like int(), float(), str(), etc.\n",
        "\n",
        "Purpose: Allows precise control over data types, especially in scenarios where Python doesn’t automatically convert the types.\n",
        "\n",
        "Risk of Data Loss: If the target type cannot fully represent the original value, there may be data loss (e.g., converting a float to an integer).\n",
        "\n",
        "\n",
        "11.What is the purpose of conditional statements in Python?\n",
        "\n",
        "  -> The purpose of conditional statements in Python is to allow your program to make decisions and execute different blocks of code based on certain conditions or logic\n",
        "\n",
        "12.How does the elif statement work?\n",
        "\n",
        "  ->Python evaluates conditions in order, starting with the if statement.\n",
        "\n",
        "If the if condition is False, Python moves to the next elif condition.\n",
        "\n",
        "Only the first condition that evaluates to True is executed; all others are skipped.\n",
        "\n",
        "If no condition is True, the else block (if present) will execute.\n",
        "\n",
        "\n",
        "13.What is the difference between for and while loops?\n",
        "\n",
        "  -> 1. for Loop\n",
        "        Purpose: Iterates over a sequence (e.g., a list, tuple, dictionary, set, or string) or a range of values.\n",
        "\n",
        "        Use Case: Best suited when the number of iterations is known or when you're iterating through items in a collection\n",
        "\n",
        "  -> 2. while Loop\n",
        "Purpose: Repeats a block of code as long as a specified condition is True.\n",
        "\n",
        "Use Case: Best suited when the number of iterations is unknown and depends on a condition being met during runtime.\n",
        "\n",
        "14.Describe a scenario where a while loop is more suitable than a for loop?\n",
        "\n",
        "  ->Imagine you are creating a program that asks users to enter their password until they provide the correct one. In this case, you cannot predict how many attempts the user will need, so a while loop is ideal because it runs until the condition (password is correct) is satisfied"
      ],
      "metadata": {
        "id": "RGT1lVnM5r1j"
      }
    },
    {
      "cell_type": "code",
      "source": [
        "# 1.Write a Python program to print \"Hello, World!\"\n",
        "\n",
        "print(\"Hello, World\")\n"
      ],
      "metadata": {
        "id": "XxMdrwx39vvV",
        "colab": {
          "base_uri": "https://localhost:8080/"
        },
        "outputId": "1d4ca803-df95-4f21-bdc2-b2e0b3a28353"
      },
      "execution_count": null,
      "outputs": [
        {
          "output_type": "stream",
          "name": "stdout",
          "text": [
            "Hello, World\n"
          ]
        }
      ]
    },
    {
      "cell_type": "code",
      "source": [
        "#2.Write a Python program that displays your name and age.\n",
        "\n",
        "Name = \"Nitin Kumar Katariya\"\n",
        "Age = \"22\"\n",
        "print(\"Name:\",Name)\n",
        "print(\"Age:\",Age)"
      ],
      "metadata": {
        "colab": {
          "base_uri": "https://localhost:8080/"
        },
        "id": "-nrnzGRGTQFR",
        "outputId": "d3e5f1be-95fb-4af9-8cb2-9cfe7914bbdb"
      },
      "execution_count": null,
      "outputs": [
        {
          "output_type": "stream",
          "name": "stdout",
          "text": [
            "Name: Nitin Kumar Katariya\n",
            "Age: 22\n"
          ]
        }
      ]
    },
    {
      "cell_type": "code",
      "source": [
        "# 3.Write code to print all the pre-defined keywords in Python using the keyword library\n",
        "\n",
        "print(\"Python Keywords:\")\n",
        "for i in keyword.kwlist:\n",
        "  print(i)\n"
      ],
      "metadata": {
        "colab": {
          "base_uri": "https://localhost:8080/"
        },
        "id": "3Mvr8gDnUhPj",
        "outputId": "14899fe0-a8fa-4aa0-be53-422610c88f1a"
      },
      "execution_count": null,
      "outputs": [
        {
          "output_type": "stream",
          "name": "stdout",
          "text": [
            "Python Keywords:\n",
            "False\n",
            "None\n",
            "True\n",
            "and\n",
            "as\n",
            "assert\n",
            "async\n",
            "await\n",
            "break\n",
            "class\n",
            "continue\n",
            "def\n",
            "del\n",
            "elif\n",
            "else\n",
            "except\n",
            "finally\n",
            "for\n",
            "from\n",
            "global\n",
            "if\n",
            "import\n",
            "in\n",
            "is\n",
            "lambda\n",
            "nonlocal\n",
            "not\n",
            "or\n",
            "pass\n",
            "raise\n",
            "return\n",
            "try\n",
            "while\n",
            "with\n",
            "yield\n"
          ]
        }
      ]
    },
    {
      "cell_type": "code",
      "source": [
        "# 4.Write a program that checks if a given word is a Python keyword.\n",
        "\n",
        "word = input(\"Enter a word to check it's a Python keyword or not: \")\n",
        "if is_keyword(word):\n",
        "    print(\"it is a Python keyword.\")\n",
        "else:\n",
        "    print(\"it is not a Python keyword.\")\n"
      ],
      "metadata": {
        "id": "79H1xwrOU54N",
        "colab": {
          "base_uri": "https://localhost:8080/"
        },
        "outputId": "a3d06832-c92e-4184-878b-6a284467c26a"
      },
      "execution_count": null,
      "outputs": [
        {
          "output_type": "stream",
          "name": "stdout",
          "text": [
            "Enter a word to check it's a Python keyword or not: for\n",
            "it is a Python keyword.\n"
          ]
        }
      ]
    },
    {
      "cell_type": "code",
      "source": [
        "# 5. Create a list and tuple in Python, and demonstrate how attempting to change an element works differently\n",
        "#    for each\n",
        "'''list = mutable\n",
        "   tuple = immutable'''\n",
        "#create a list and modify\n",
        "\n",
        "my_list =[1,2,3,4,5,6]   #create a list\n",
        "my_list[1] = 5\n",
        "print(\"modified list\",my_list)\n",
        "\n"
      ],
      "metadata": {
        "colab": {
          "base_uri": "https://localhost:8080/"
        },
        "id": "E5uX3dfLfGMj",
        "outputId": "2428dc98-625a-4636-c9f6-488f6fbfa1e7"
      },
      "execution_count": null,
      "outputs": [
        {
          "output_type": "stream",
          "name": "stdout",
          "text": [
            "modified list [1, 5, 3, 4, 5, 6]\n"
          ]
        }
      ]
    },
    {
      "cell_type": "code",
      "source": [
        "# 6.Write a function to demonstrate the behavior of mutable and immutable arguments\n",
        "\n",
        "def modify_values(mutable_list, immutable_num):\n",
        "\n",
        "    mutable_list.append(100)\n",
        "\n",
        "    immutable_num += 10\n",
        "\n",
        "    print(\"Inside function - mutable_list:\", mutable_list)\n",
        "    print(\"Inside function - immutable_num:\", immutable_num)\n",
        "\n",
        "my_list = [1, 2, 3]\n",
        "my_number = 50\n",
        "\n",
        "modify_values(my_list, my_number)\n",
        "\n",
        "\n",
        "print(\"Outside function - my_list:\", my_list)\n",
        "print(\"Outside function - my_number:\", my_number)\n"
      ],
      "metadata": {
        "colab": {
          "base_uri": "https://localhost:8080/"
        },
        "id": "YHMzY_ZeWF5D",
        "outputId": "a0e456b3-4fd0-4202-a50e-527526ee75b0"
      },
      "execution_count": 3,
      "outputs": [
        {
          "output_type": "stream",
          "name": "stdout",
          "text": [
            "Inside function - mutable_list: [1, 2, 3, 100]\n",
            "Inside function - immutable_num: 60\n",
            "Outside function - my_list: [1, 2, 3, 100]\n",
            "Outside function - my_number: 50\n"
          ]
        }
      ]
    },
    {
      "cell_type": "code",
      "source": [
        "# 7.Write a function to demonstrate the behavior of mutable and immutable arguments\n",
        "\n",
        "a = int(input(\"Enter a value for a: \"))\n",
        "b = int(input(\"Enter a value for b: \"))\n",
        "sum = a+b\n",
        "print(sum)"
      ],
      "metadata": {
        "colab": {
          "base_uri": "https://localhost:8080/"
        },
        "id": "hxASaclih0l-",
        "outputId": "69c0c808-5a6f-4d25-a262-9715bfbb6bcd"
      },
      "execution_count": null,
      "outputs": [
        {
          "output_type": "stream",
          "name": "stdout",
          "text": [
            "Enter a value for a: 9\n",
            "Enter a value for b: 9\n",
            "18\n"
          ]
        },
        {
          "output_type": "execute_result",
          "data": {
            "text/plain": [
              "int"
            ]
          },
          "metadata": {},
          "execution_count": 49
        }
      ]
    },
    {
      "cell_type": "code",
      "source": [
        "# 8.  Write a program to demonstrate the use of logical operators.\n",
        "\n",
        "# Input values from the user\n",
        "age = int(input(\"Enter your age: \"))\n",
        "income = int(input(\"Enter your monthly income: \"))\n",
        "\n",
        "# Demonstrating 'and' operator\n",
        "if age >= 18 and income >= 20000:\n",
        "    print(\"You are eligible for the loan.\")\n",
        "else:\n",
        "    print(\"You are not eligible for the loan (both conditions must be met).\")\n",
        "\n",
        "# Demonstrating 'or' operator\n",
        "if age < 18 or income < 20000:\n",
        "    print(\"Either your age is less than 18 or your income is less than 20,000.\")\n",
        "\n",
        "# Demonstrating 'not' operator\n",
        "if not (age < 18):\n",
        "    print(\"You are not underage (age is 18 or older).\")\n",
        "else:\n",
        "    print(\"You are underage.\")\n"
      ],
      "metadata": {
        "id": "ymdppvEOfFJU",
        "colab": {
          "base_uri": "https://localhost:8080/"
        },
        "outputId": "bab6c749-5392-45c0-c3f5-6fb3147d0e70"
      },
      "execution_count": 4,
      "outputs": [
        {
          "output_type": "stream",
          "name": "stdout",
          "text": [
            "Enter your age: 22\n",
            "Enter your monthly income: 100000\n",
            "You are eligible for the loan.\n",
            "You are not underage (age is 18 or older).\n"
          ]
        }
      ]
    },
    {
      "cell_type": "code",
      "source": [
        "# 9. Write a Python program to convert user input from string to integer, float, and boolean types.\n",
        "\n",
        "user_input = input(\"Enter a value to convert string to integer, float, and boolean types value: \")\n",
        "int((user_input))\n",
        "print(int(user_input))\n",
        "float(user_input)\n",
        "print(float(user_input))\n",
        "bool(user_input)\n",
        "print(bool(user_input))"
      ],
      "metadata": {
        "colab": {
          "base_uri": "https://localhost:8080/"
        },
        "id": "U3SG-bq0ldyc",
        "outputId": "53a0a9dc-8093-4969-e306-4efd1e8d9d75"
      },
      "execution_count": null,
      "outputs": [
        {
          "output_type": "stream",
          "name": "stdout",
          "text": [
            "Enter a value to convert string to integer, float, and boolean types value: 0\n",
            "0\n",
            "0.0\n",
            "True\n"
          ]
        }
      ]
    },
    {
      "cell_type": "code",
      "source": [
        "# 10. Write code to demonstrate type casting with list element\n",
        "\n",
        "# Original list with mixed data types\n",
        "original_list = ['1', '2', '3', '4.5', '6.7', 'True', 'False']\n",
        "\n",
        "# Initialize empty lists for storing type-casted elements\n",
        "int_list = []\n",
        "float_list = []\n",
        "bool_list = []\n",
        "\n",
        "# Iterate through the original list\n",
        "for element in original_list:\n",
        "    try:\n",
        "        # Attempt to cast to integer\n",
        "        int_list.append(int(element))\n",
        "    except ValueError:\n",
        "        pass  # Skip if casting to integer fails\n",
        "\n",
        "    try:\n",
        "        # Attempt to cast to float\n",
        "        float_list.append(float(element))\n",
        "    except ValueError:\n",
        "        pass  # Skip if casting to float fails\n",
        "\n",
        "    try:\n",
        "        # Attempt to cast to boolean\n",
        "        bool_list.append(bool(element))\n",
        "    except ValueError:\n",
        "        pass  # Skip if casting to boolean fails\n",
        "\n",
        "# Print the type-casted lists\n",
        "print(\"Original list:\", original_list)\n",
        "print(\"List with integers:\", int_list)\n",
        "print(\"List with floats:\", float_list)\n",
        "print(\"List with booleans:\", bool_list)\n",
        "\n",
        "\n",
        "\n"
      ],
      "metadata": {
        "id": "AtxWie04rPPh",
        "colab": {
          "base_uri": "https://localhost:8080/"
        },
        "outputId": "f0ef62d2-f594-44ff-c3ef-70943e5d3f73"
      },
      "execution_count": 5,
      "outputs": [
        {
          "output_type": "stream",
          "name": "stdout",
          "text": [
            "Original list: ['1', '2', '3', '4.5', '6.7', 'True', 'False']\n",
            "List with integers: [1, 2, 3]\n",
            "List with floats: [1.0, 2.0, 3.0, 4.5, 6.7]\n",
            "List with booleans: [True, True, True, True, True, True, True]\n"
          ]
        }
      ]
    },
    {
      "cell_type": "code",
      "source": [
        "# 11.Write a program that checks if a number is positive, negative, or zero\n",
        "\n",
        "num = int(input(\"Enter a number to check it is positive, negative or zero: \"))\n",
        "if num>0:\n",
        "  print(\"Number is positive\")\n",
        "elif num<0:\n",
        "    print(\"Number is negative\")\n",
        "else:\n",
        "  print(\"nuber is zero\")\n"
      ],
      "metadata": {
        "colab": {
          "base_uri": "https://localhost:8080/"
        },
        "id": "w9qQUrTDruck",
        "outputId": "2ba8ec35-5f4e-4b16-d85f-5a290e3f5e83"
      },
      "execution_count": null,
      "outputs": [
        {
          "output_type": "stream",
          "name": "stdout",
          "text": [
            "Enter a number to check it is positive, negative or zero: -9\n",
            "Number is negative\n"
          ]
        }
      ]
    },
    {
      "cell_type": "code",
      "source": [
        "# 12.Write a for loop to print numbers from 1 to 10.\n",
        "\n",
        "for i in range(1,11):\n",
        "  print(i)"
      ],
      "metadata": {
        "colab": {
          "base_uri": "https://localhost:8080/"
        },
        "id": "dD-1UygEtNo9",
        "outputId": "54a457b8-e6d9-403e-9806-29c5e80c23e4"
      },
      "execution_count": null,
      "outputs": [
        {
          "output_type": "stream",
          "name": "stdout",
          "text": [
            "1\n",
            "2\n",
            "3\n",
            "4\n",
            "5\n",
            "6\n",
            "7\n",
            "8\n",
            "9\n",
            "10\n"
          ]
        }
      ]
    },
    {
      "cell_type": "code",
      "source": [
        "# 13. Write a Python program to find the sum of all even numbers between 1 and 50\n",
        "\n",
        "sum_of_evens = 0\n",
        "for i in range(1, 51):\n",
        "    if i % 2 == 0:\n",
        "        sum_of_evens += i\n",
        "print(\"The sum of all even numbers between 1 and 50 is:\", sum_of_evens)\n",
        "\n",
        "\n"
      ],
      "metadata": {
        "colab": {
          "base_uri": "https://localhost:8080/"
        },
        "id": "M9m_QQDRuM9U",
        "outputId": "d0060506-4163-4e67-cf9a-4cfce0613847"
      },
      "execution_count": null,
      "outputs": [
        {
          "output_type": "stream",
          "name": "stdout",
          "text": [
            "The sum of all even numbers between 1 and 50 is: 650\n"
          ]
        }
      ]
    },
    {
      "cell_type": "code",
      "source": [
        "# 14. Write a program to reverse a string using a while loop.\n",
        "\n",
        "\n",
        "# Input string\n",
        "original_string = input(\"Enter a string: \")\n",
        "\n",
        "# Initialize variables\n",
        "reversed_string = \"\"\n",
        "index = len(original_string) - 1\n",
        "\n",
        "# Use while loop to reverse the string\n",
        "while index >= 0:\n",
        "    reversed_string += original_string[index]  # Add characters in reverse order\n",
        "    index -= 1  # Move to the previous character\n",
        "\n",
        "# Display the reversed string\n",
        "print(\"Reversed string:\", reversed_string)\n"
      ],
      "metadata": {
        "colab": {
          "base_uri": "https://localhost:8080/"
        },
        "id": "bRa57rtyJWWb",
        "outputId": "1aa4efb3-c205-4006-911c-acc32792e62e"
      },
      "execution_count": 1,
      "outputs": [
        {
          "output_type": "stream",
          "name": "stdout",
          "text": [
            "Enter a string: hello\n",
            "Reversed string: olleh\n"
          ]
        }
      ]
    },
    {
      "cell_type": "code",
      "source": [
        "# 15. Write a Python program to calculate the factorial of a number provided by the user using a while loop\n",
        "\n",
        "# Prompt the user to enter a number\n",
        "number = int(input(\"Enter a positive integer: \"))\n",
        "\n",
        "# Initialize variables\n",
        "factorial = 1\n",
        "counter = number\n",
        "\n",
        "# Use a while loop to calculate the factorial\n",
        "while counter > 0:\n",
        "    factorial *= counter  # Multiply the current counter value\n",
        "    counter -= 1          # Decrease the counter by 1\n",
        "\n",
        "# Display the result\n",
        "print(f\"The factorial of {number} is {factorial}.\")\n"
      ],
      "metadata": {
        "id": "a32pCC3ZKp9F",
        "colab": {
          "base_uri": "https://localhost:8080/"
        },
        "outputId": "70fb51bf-31a2-4a30-e13c-232668735309"
      },
      "execution_count": 2,
      "outputs": [
        {
          "output_type": "stream",
          "name": "stdout",
          "text": [
            "Enter a positive integer: 10\n",
            "The factorial of 10 is 3628800.\n"
          ]
        }
      ]
    }
  ]
}